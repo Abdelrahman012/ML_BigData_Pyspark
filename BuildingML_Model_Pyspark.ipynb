{
  "nbformat": 4,
  "nbformat_minor": 5,
  "metadata": {
    "kernelspec": {
      "display_name": "Python 3",
      "language": "python",
      "name": "python3"
    },
    "language_info": {
      "codemirror_mode": {
        "name": "ipython",
        "version": 3
      },
      "file_extension": ".py",
      "mimetype": "text/x-python",
      "name": "python",
      "nbconvert_exporter": "python",
      "pygments_lexer": "ipython3",
      "version": "3.8.8"
    },
    "colab": {
      "name": "Spark and Python for Big Data Final Exam.ipynb",
      "provenance": [],
      "collapsed_sections": [
        "abbf1e33",
        "8326ba88",
        "0eb78c16",
        "7c842b79",
        "e31bc851",
        "843b8468",
        "bf8c9498",
        "850bdfe1",
        "3da38a31"
      ]
    }
  },
  "cells": [
    {
      "cell_type": "markdown",
      "metadata": {
        "id": "fa486f23"
      },
      "source": [
        "![image.png](attachment:image.png)"
      ],
      "id": "fa486f23"
    },
    {
      "cell_type": "markdown",
      "metadata": {
        "id": "abbf1e33"
      },
      "source": [
        "##### **Good luck with taking your exam. Keep working and make your dreams all come true. Seeing the results of all of your hard work will make this struggle worth it. We’re all thinking of you.** \n",
        "<b><font color='blue'>AI-PRO Spark Team ITI</font></b>"
      ],
      "id": "abbf1e33"
    },
    {
      "cell_type": "markdown",
      "metadata": {
        "id": "8326ba88"
      },
      "source": [
        "## Objective:\n",
        "- The objective from this project is to create a <b>Logistic Regression Classifier</b> to predict the <b>Stroke Condition</b>.\n",
        "- <b>Stoke</b> is a condition in which either the blood flow to the brain stops or blood flow is excessive.\n",
        "- It is required to obtain <b>ROC > 0.65</b>."
      ],
      "id": "8326ba88"
    },
    {
      "cell_type": "markdown",
      "metadata": {
        "id": "0eb78c16"
      },
      "source": [
        "### Data:\n",
        "- Data is provided in csv format in a file named <b>healthcare-dataset-stroke-data.csv</b>"
      ],
      "id": "0eb78c16"
    },
    {
      "cell_type": "markdown",
      "metadata": {
        "id": "7c842b79"
      },
      "source": [
        "### Column names and data types are as follow:\n",
        "- id, integer.\n",
        "- gender, string.\n",
        "- age, double.\n",
        "- hypertension, integer.\n",
        "- heart_disease, integer.\n",
        "- ever_married, string.\n",
        "- work_type, string.\n",
        "- Residence_type, string.\n",
        "- avg_glucose_level, double.\n",
        "- bmi, double.\n",
        "- smoking_status, string.\n",
        "- stroke, integer <b>(Target Label)</b>.\n",
        "If the person has stroke the stroke label value is <b>\"1\"</b> otherwise <b>\"0\"</b>."
      ],
      "id": "7c842b79"
    },
    {
      "cell_type": "markdown",
      "metadata": {
        "id": "6971f788"
      },
      "source": [
        "## To perform this task follow the following guiding steps:"
      ],
      "id": "6971f788"
    },
    {
      "cell_type": "code",
      "metadata": {
        "id": "FnQYH5epsV68"
      },
      "source": [
        "# pysaprk configuration on colab\n",
        "#pip install pyspark"
      ],
      "id": "FnQYH5epsV68",
      "execution_count": 518,
      "outputs": []
    },
    {
      "cell_type": "markdown",
      "metadata": {
        "id": "e31bc851"
      },
      "source": [
        "### Create a spark session and import the required libraries"
      ],
      "id": "e31bc851"
    },
    {
      "cell_type": "code",
      "metadata": {
        "id": "ab3ba311"
      },
      "source": [
        "from pyspark.sql import SparkSession\n",
        "import pyspark.sql.functions as F\n",
        "import pandas as pd\n",
        "import matplotlib.pyplot as plt\n",
        "spark=SparkSession.builder.appName('new_version').getOrCreate()"
      ],
      "id": "ab3ba311",
      "execution_count": 519,
      "outputs": []
    },
    {
      "cell_type": "markdown",
      "metadata": {
        "id": "843b8468"
      },
      "source": [
        "### Create a data schema programatically"
      ],
      "id": "843b8468"
    },
    {
      "cell_type": "code",
      "metadata": {
        "id": "8616fe16"
      },
      "source": [
        "schema=\"id int,gender string ,age double,hypertension int,heart_disease int,ever_married string,work_type string,Residence_type string,avg_glucose_level double,bmi double,smoking_status string,stroke int\""
      ],
      "id": "8616fe16",
      "execution_count": 520,
      "outputs": []
    },
    {
      "cell_type": "markdown",
      "metadata": {
        "id": "2d00718f"
      },
      "source": [
        "### Read the data using the standard DataReader (Key,Value) pairs format\n",
        "- Provide the schema and any other required options."
      ],
      "id": "2d00718f"
    },
    {
      "cell_type": "code",
      "metadata": {
        "id": "YMMx39r8vrQe"
      },
      "source": [
        "df=(spark.read.format('csv')\n",
        "    .schema(schema)\n",
        "    .option('header','true')\n",
        "    .load(\"/content/healthcare-dataset-stroke-data.csv\")\n",
        ")"
      ],
      "id": "YMMx39r8vrQe",
      "execution_count": 521,
      "outputs": []
    },
    {
      "cell_type": "markdown",
      "metadata": {
        "id": "974bc193"
      },
      "source": [
        "### Explore the data \n",
        "#### You have to do the following:\n",
        "- Print the Schema.\n",
        "- Show the first 10 rows from the data.\n",
        "- Explore null values and show how many null values in each column.\n",
        "- Plot a count plot for the target label and <b>notice the graph</b>.\n",
        "- Perform any additional EDA you find useful."
      ],
      "id": "974bc193"
    },
    {
      "cell_type": "code",
      "metadata": {
        "colab": {
          "base_uri": "https://localhost:8080/"
        },
        "id": "353b6f34",
        "outputId": "abbb13af-2cb5-4b0a-842b-7084cc5a4b95"
      },
      "source": [
        "df.printSchema()"
      ],
      "id": "353b6f34",
      "execution_count": 522,
      "outputs": [
        {
          "output_type": "stream",
          "name": "stdout",
          "text": [
            "root\n",
            " |-- id: integer (nullable = true)\n",
            " |-- gender: string (nullable = true)\n",
            " |-- age: double (nullable = true)\n",
            " |-- hypertension: integer (nullable = true)\n",
            " |-- heart_disease: integer (nullable = true)\n",
            " |-- ever_married: string (nullable = true)\n",
            " |-- work_type: string (nullable = true)\n",
            " |-- Residence_type: string (nullable = true)\n",
            " |-- avg_glucose_level: double (nullable = true)\n",
            " |-- bmi: double (nullable = true)\n",
            " |-- smoking_status: string (nullable = true)\n",
            " |-- stroke: integer (nullable = true)\n",
            "\n"
          ]
        }
      ]
    },
    {
      "cell_type": "code",
      "metadata": {
        "colab": {
          "base_uri": "https://localhost:8080/"
        },
        "id": "6fb198f0",
        "outputId": "375369e3-4810-474c-c3a1-9b8013cf3969"
      },
      "source": [
        "df.show(10)"
      ],
      "id": "6fb198f0",
      "execution_count": 523,
      "outputs": [
        {
          "output_type": "stream",
          "name": "stdout",
          "text": [
            "+-----+------+----+------------+-------------+------------+-------------+--------------+-----------------+----+---------------+------+\n",
            "|   id|gender| age|hypertension|heart_disease|ever_married|    work_type|Residence_type|avg_glucose_level| bmi| smoking_status|stroke|\n",
            "+-----+------+----+------------+-------------+------------+-------------+--------------+-----------------+----+---------------+------+\n",
            "| 9046|  Male|67.0|           0|            1|         Yes|      Private|         Urban|           228.69|36.6|formerly smoked|     1|\n",
            "|51676|Female|61.0|           0|            0|         Yes|Self-employed|         Rural|           202.21|null|   never smoked|     1|\n",
            "|31112|  Male|80.0|           0|            1|         Yes|      Private|         Rural|           105.92|32.5|   never smoked|     1|\n",
            "|60182|Female|49.0|           0|            0|         Yes|      Private|         Urban|           171.23|34.4|         smokes|     1|\n",
            "| 1665|Female|79.0|           1|            0|         Yes|Self-employed|         Rural|           174.12|24.0|   never smoked|     1|\n",
            "|56669|  Male|81.0|           0|            0|         Yes|      Private|         Urban|           186.21|29.0|formerly smoked|     1|\n",
            "|53882|  Male|74.0|           1|            1|         Yes|      Private|         Rural|            70.09|27.4|   never smoked|     1|\n",
            "|10434|Female|69.0|           0|            0|          No|      Private|         Urban|            94.39|22.8|   never smoked|     1|\n",
            "|27419|Female|59.0|           0|            0|         Yes|      Private|         Rural|            76.15|null|        Unknown|     1|\n",
            "|60491|Female|78.0|           0|            0|         Yes|      Private|         Urban|            58.57|24.2|        Unknown|     1|\n",
            "+-----+------+----+------------+-------------+------------+-------------+--------------+-----------------+----+---------------+------+\n",
            "only showing top 10 rows\n",
            "\n"
          ]
        }
      ]
    },
    {
      "cell_type": "code",
      "metadata": {
        "colab": {
          "base_uri": "https://localhost:8080/"
        },
        "id": "sNQapXZ1w2ls",
        "outputId": "0faafa2f-dad4-47d6-e116-bf782836c28b"
      },
      "source": [
        " from pyspark.sql.functions import col,isnan, when, count\n",
        "df.select([count(when(isnan(c) | col(c).isNull(), c)).alias(c) for c in df.columns]\n",
        "   ).show()"
      ],
      "id": "sNQapXZ1w2ls",
      "execution_count": 524,
      "outputs": [
        {
          "output_type": "stream",
          "name": "stdout",
          "text": [
            "+---+------+---+------------+-------------+------------+---------+--------------+-----------------+---+--------------+------+\n",
            "| id|gender|age|hypertension|heart_disease|ever_married|work_type|Residence_type|avg_glucose_level|bmi|smoking_status|stroke|\n",
            "+---+------+---+------------+-------------+------------+---------+--------------+-----------------+---+--------------+------+\n",
            "|  0|     0|  0|           0|            0|           0|        0|             0|                0|201|             0|     0|\n",
            "+---+------+---+------------+-------------+------------+---------+--------------+-----------------+---+--------------+------+\n",
            "\n"
          ]
        }
      ]
    },
    {
      "cell_type": "code",
      "metadata": {
        "colab": {
          "base_uri": "https://localhost:8080/"
        },
        "id": "-4YOJxGcwXMj",
        "outputId": "cf3dc420-96e8-4c94-fafb-a63e35533779"
      },
      "source": [
        "null_columns = []\n",
        "for col_name in df.columns:\n",
        "    null_values = df.where(F.col(col_name).isNull()).count()\n",
        "    if(null_values > 0):\n",
        "        null_columns.append((col_name, null_values))\n",
        "print(null_columns)"
      ],
      "id": "-4YOJxGcwXMj",
      "execution_count": 525,
      "outputs": [
        {
          "output_type": "stream",
          "name": "stdout",
          "text": [
            "[('bmi', 201)]\n"
          ]
        }
      ]
    },
    {
      "cell_type": "code",
      "metadata": {
        "id": "ALdcbOjNzYJk"
      },
      "source": [
        "df_pandas=df.toPandas()"
      ],
      "id": "ALdcbOjNzYJk",
      "execution_count": 526,
      "outputs": []
    },
    {
      "cell_type": "code",
      "metadata": {
        "colab": {
          "base_uri": "https://localhost:8080/"
        },
        "id": "gzFnBrZT17Td",
        "outputId": "fa6e5172-2bdf-4965-ba01-25b7ced4662f"
      },
      "source": [
        "df.count()"
      ],
      "id": "gzFnBrZT17Td",
      "execution_count": 527,
      "outputs": [
        {
          "output_type": "execute_result",
          "data": {
            "text/plain": [
              "5110"
            ]
          },
          "metadata": {},
          "execution_count": 527
        }
      ]
    },
    {
      "cell_type": "code",
      "metadata": {
        "colab": {
          "base_uri": "https://localhost:8080/",
          "height": 278
        },
        "id": "ongyBZaWxxqf",
        "outputId": "c7e71e9a-4f8b-4a46-d95e-283f43921421"
      },
      "source": [
        "import seaborn as sns \n",
        "sns.countplot(x=\"stroke\",data=df_pandas)\n",
        "plt.show()"
      ],
      "id": "ongyBZaWxxqf",
      "execution_count": 528,
      "outputs": [
        {
          "output_type": "display_data",
          "data": {
            "image/png": "[encoded data removed]",
            "text/plain": [
              "<Figure size 432x288 with 1 Axes>"
            ]
          },
          "metadata": {
            "needs_background": "light"
          }
        }
      ]
    },
    {
      "cell_type": "code",
      "metadata": {
        "colab": {
          "base_uri": "https://localhost:8080/",
          "height": 296
        },
        "id": "i1ZXRHry0uKE",
        "outputId": "f4b7bc75-f953-4dc9-c85b-7bb45bec0f5e"
      },
      "source": [
        "sns.countplot(x=\"smoking_status\",data=df_pandas)"
      ],
      "id": "i1ZXRHry0uKE",
      "execution_count": 529,
      "outputs": [
        {
          "output_type": "execute_result",
          "data": {
            "text/plain": [
              "<matplotlib.axes._subplots.AxesSubplot at 0x7f7cdd41cbd0>"
            ]
          },
          "metadata": {},
          "execution_count": 529
        },
        {
          "output_type": "display_data",
          "data": {
            "image/png": "[encoded data removed]",
            "text/plain": [
              "<Figure size 432x288 with 1 Axes>"
            ]
          },
          "metadata": {
            "needs_background": "light"
          }
        }
      ]
    },
    {
      "cell_type": "code",
      "metadata": {
        "id": "yhal_HaZ1CtE"
      },
      "source": [
        "#sns.pairplot(df_pandas)"
      ],
      "id": "yhal_HaZ1CtE",
      "execution_count": 530,
      "outputs": []
    },
    {
      "cell_type": "code",
      "metadata": {
        "colab": {
          "base_uri": "https://localhost:8080/",
          "height": 385
        },
        "id": "awGubku49VFN",
        "outputId": "dadf8020-559d-43d7-8f5a-d45eab5bcf1a"
      },
      "source": [
        "sns.displot(df_pandas[\"bmi\"]) #skewed data so The null values will be filled wwith median"
      ],
      "id": "awGubku49VFN",
      "execution_count": 531,
      "outputs": [
        {
          "output_type": "execute_result",
          "data": {
            "text/plain": [
              "<seaborn.axisgrid.FacetGrid at 0x7f7cdd51c510>"
            ]
          },
          "metadata": {},
          "execution_count": 531
        },
        {
          "output_type": "display_data",
          "data": {
            "image/png": "[encoded data removed]",
            "text/plain": [
              "<Figure size 360x360 with 1 Axes>"
            ]
          },
          "metadata": {
            "needs_background": "light"
          }
        }
      ]
    },
    {
      "cell_type": "markdown",
      "metadata": {
        "id": "59b770cb"
      },
      "source": [
        "### Get the summary statistics of the age column\n",
        "- You will find the minimum age is about <b>0.08</b>.\n",
        "- Remove rows for the age below <b>2 years old</b>."
      ],
      "id": "59b770cb"
    },
    {
      "cell_type": "code",
      "metadata": {
        "scrolled": false,
        "colab": {
          "base_uri": "https://localhost:8080/"
        },
        "id": "ed40fb11",
        "outputId": "c0749d10-8d1e-4dac-dd8b-36162b1295dc"
      },
      "source": [
        "df.select(\"age\").summary().show()"
      ],
      "id": "ed40fb11",
      "execution_count": 532,
      "outputs": [
        {
          "output_type": "stream",
          "name": "stdout",
          "text": [
            "+-------+------------------+\n",
            "|summary|               age|\n",
            "+-------+------------------+\n",
            "|  count|              5110|\n",
            "|   mean|43.226614481409015|\n",
            "| stddev| 22.61264672311348|\n",
            "|    min|              0.08|\n",
            "|    25%|              25.0|\n",
            "|    50%|              45.0|\n",
            "|    75%|              61.0|\n",
            "|    max|              82.0|\n",
            "+-------+------------------+\n",
            "\n"
          ]
        }
      ]
    },
    {
      "cell_type": "code",
      "metadata": {
        "colab": {
          "base_uri": "https://localhost:8080/"
        },
        "id": "cc99c0be",
        "outputId": "b209c3f2-ea98-48e0-84d8-62bae782a7cd"
      },
      "source": [
        "df=df.filter(F.col(\"age\")>2)\n",
        "df.show()"
      ],
      "id": "cc99c0be",
      "execution_count": 533,
      "outputs": [
        {
          "output_type": "stream",
          "name": "stdout",
          "text": [
            "+-----+------+----+------------+-------------+------------+-------------+--------------+-----------------+----+---------------+------+\n",
            "|   id|gender| age|hypertension|heart_disease|ever_married|    work_type|Residence_type|avg_glucose_level| bmi| smoking_status|stroke|\n",
            "+-----+------+----+------------+-------------+------------+-------------+--------------+-----------------+----+---------------+------+\n",
            "| 9046|  Male|67.0|           0|            1|         Yes|      Private|         Urban|           228.69|36.6|formerly smoked|     1|\n",
            "|51676|Female|61.0|           0|            0|         Yes|Self-employed|         Rural|           202.21|null|   never smoked|     1|\n",
            "|31112|  Male|80.0|           0|            1|         Yes|      Private|         Rural|           105.92|32.5|   never smoked|     1|\n",
            "|60182|Female|49.0|           0|            0|         Yes|      Private|         Urban|           171.23|34.4|         smokes|     1|\n",
            "| 1665|Female|79.0|           1|            0|         Yes|Self-employed|         Rural|           174.12|24.0|   never smoked|     1|\n",
            "|56669|  Male|81.0|           0|            0|         Yes|      Private|         Urban|           186.21|29.0|formerly smoked|     1|\n",
            "|53882|  Male|74.0|           1|            1|         Yes|      Private|         Rural|            70.09|27.4|   never smoked|     1|\n",
            "|10434|Female|69.0|           0|            0|          No|      Private|         Urban|            94.39|22.8|   never smoked|     1|\n",
            "|27419|Female|59.0|           0|            0|         Yes|      Private|         Rural|            76.15|null|        Unknown|     1|\n",
            "|60491|Female|78.0|           0|            0|         Yes|      Private|         Urban|            58.57|24.2|        Unknown|     1|\n",
            "|12109|Female|81.0|           1|            0|         Yes|      Private|         Rural|            80.43|29.7|   never smoked|     1|\n",
            "|12095|Female|61.0|           0|            1|         Yes|     Govt_job|         Rural|           120.46|36.8|         smokes|     1|\n",
            "|12175|Female|54.0|           0|            0|         Yes|      Private|         Urban|           104.51|27.3|         smokes|     1|\n",
            "| 8213|  Male|78.0|           0|            1|         Yes|      Private|         Urban|           219.84|null|        Unknown|     1|\n",
            "| 5317|Female|79.0|           0|            1|         Yes|      Private|         Urban|           214.09|28.2|   never smoked|     1|\n",
            "|58202|Female|50.0|           1|            0|         Yes|Self-employed|         Rural|           167.41|30.9|   never smoked|     1|\n",
            "|56112|  Male|64.0|           0|            1|         Yes|      Private|         Urban|           191.61|37.5|         smokes|     1|\n",
            "|34120|  Male|75.0|           1|            0|         Yes|      Private|         Urban|           221.29|25.8|         smokes|     1|\n",
            "|27458|Female|60.0|           0|            0|          No|      Private|         Urban|            89.22|37.8|   never smoked|     1|\n",
            "|25226|  Male|57.0|           0|            1|          No|     Govt_job|         Urban|           217.08|null|        Unknown|     1|\n",
            "+-----+------+----+------------+-------------+------------+-------------+--------------+-----------------+----+---------------+------+\n",
            "only showing top 20 rows\n",
            "\n"
          ]
        }
      ]
    },
    {
      "cell_type": "markdown",
      "metadata": {
        "id": "bf8c9498"
      },
      "source": [
        "### Working with gender & smoking_status columns:\n",
        "- Select and show the gender & smoking_status columns\n",
        "- Get the distinct values for each column."
      ],
      "id": "bf8c9498"
    },
    {
      "cell_type": "code",
      "metadata": {
        "colab": {
          "base_uri": "https://localhost:8080/"
        },
        "id": "925a5ecd",
        "outputId": "a93f1a1f-6faa-4291-e45e-1d57a11664dc"
      },
      "source": [
        "df.select(\"gender\",\"smoking_status\").show()"
      ],
      "id": "925a5ecd",
      "execution_count": 534,
      "outputs": [
        {
          "output_type": "stream",
          "name": "stdout",
          "text": [
            "+------+---------------+\n",
            "|gender| smoking_status|\n",
            "+------+---------------+\n",
            "|  Male|formerly smoked|\n",
            "|Female|   never smoked|\n",
            "|  Male|   never smoked|\n",
            "|Female|         smokes|\n",
            "|Female|   never smoked|\n",
            "|  Male|formerly smoked|\n",
            "|  Male|   never smoked|\n",
            "|Female|   never smoked|\n",
            "|Female|        Unknown|\n",
            "|Female|        Unknown|\n",
            "|Female|   never smoked|\n",
            "|Female|         smokes|\n",
            "|Female|         smokes|\n",
            "|  Male|        Unknown|\n",
            "|Female|   never smoked|\n",
            "|Female|   never smoked|\n",
            "|  Male|         smokes|\n",
            "|  Male|         smokes|\n",
            "|Female|   never smoked|\n",
            "|  Male|        Unknown|\n",
            "+------+---------------+\n",
            "only showing top 20 rows\n",
            "\n"
          ]
        }
      ]
    },
    {
      "cell_type": "code",
      "metadata": {
        "colab": {
          "base_uri": "https://localhost:8080/"
        },
        "id": "9dfe35a4",
        "outputId": "b30b2fa6-6626-4e7a-a733-51583b5c883a"
      },
      "source": [
        "df.select(\"gender\").distinct().show()"
      ],
      "id": "9dfe35a4",
      "execution_count": 535,
      "outputs": [
        {
          "output_type": "stream",
          "name": "stdout",
          "text": [
            "+------+\n",
            "|gender|\n",
            "+------+\n",
            "|Female|\n",
            "| Other|\n",
            "|  Male|\n",
            "+------+\n",
            "\n"
          ]
        }
      ]
    },
    {
      "cell_type": "code",
      "metadata": {
        "colab": {
          "base_uri": "https://localhost:8080/"
        },
        "id": "b7bf6c7e",
        "outputId": "c0d06a8d-dbd9-48a6-a9e2-20813ad940da"
      },
      "source": [
        "df.select(\"smoking_status\").distinct().show()"
      ],
      "id": "b7bf6c7e",
      "execution_count": 536,
      "outputs": [
        {
          "output_type": "stream",
          "name": "stdout",
          "text": [
            "+---------------+\n",
            "| smoking_status|\n",
            "+---------------+\n",
            "|         smokes|\n",
            "|        Unknown|\n",
            "|   never smoked|\n",
            "|formerly smoked|\n",
            "+---------------+\n",
            "\n"
          ]
        }
      ]
    },
    {
      "cell_type": "markdown",
      "metadata": {
        "id": "850bdfe1"
      },
      "source": [
        "#### Change the string values of the columns into numerical values as follow:\n",
        "1. Gender column:\n",
        "    * Male = 1 \n",
        "    * Female = 0 \n",
        "    * Other = 0 \n",
        "2. Smoking Status column:\n",
        "  * never smoked = 0\n",
        "  * Unknown = 0.5\n",
        "  * formerly smoked = 0.75\n",
        "  * smokes = 1.0\n"
      ],
      "id": "850bdfe1"
    },
    {
      "cell_type": "code",
      "metadata": {
        "id": "355f2ef0"
      },
      "source": [
        "from pyspark.sql.types import DoubleType, StringType\n",
        "gender_map={\"Male\":1.0,\"Female\":0.0,\"Other\":0.0}\n",
        "def encode_gender(gender_value):\n",
        "  return gender_map[gender_value]\n",
        "gender_map_func = F.udf(lambda x: encode_gender(x),DoubleType())\n",
        "df= df.withColumn('gender', gender_map_func('gender'))"
      ],
      "id": "355f2ef0",
      "execution_count": 537,
      "outputs": []
    },
    {
      "cell_type": "code",
      "metadata": {
        "id": "aL_Rw8ed5d6d"
      },
      "source": [
        "smoking_map={\"never smoked\":0.0,\"Unknown\":.5,\"formerly smoked\":0.75,\"smokes\":1.0}\n",
        "def encode_smoking(smoking_value):\n",
        "  return smoking_map[smoking_value]\n",
        "smoking_map_func = F.udf(lambda x: encode_smoking(x),DoubleType())\n",
        "df= df.withColumn('smoking_status', smoking_map_func('smoking_status'))"
      ],
      "id": "aL_Rw8ed5d6d",
      "execution_count": 538,
      "outputs": []
    },
    {
      "cell_type": "markdown",
      "metadata": {
        "id": "3da38a31"
      },
      "source": [
        "#### Show the output DataFrame\n",
        "- Select and show the gender & smoking_status columns after value changing.\n",
        "- Print schema for the new dataframe."
      ],
      "id": "3da38a31"
    },
    {
      "cell_type": "code",
      "metadata": {
        "colab": {
          "base_uri": "https://localhost:8080/"
        },
        "id": "7df0cf29",
        "outputId": "91633336-5314-4b6d-eb6f-52eb1e482940"
      },
      "source": [
        "df.select(\"gender\",\"smoking_status\").show()"
      ],
      "id": "7df0cf29",
      "execution_count": 539,
      "outputs": [
        {
          "output_type": "stream",
          "name": "stdout",
          "text": [
            "+------+--------------+\n",
            "|gender|smoking_status|\n",
            "+------+--------------+\n",
            "|   1.0|          0.75|\n",
            "|   0.0|           0.0|\n",
            "|   1.0|           0.0|\n",
            "|   0.0|           1.0|\n",
            "|   0.0|           0.0|\n",
            "|   1.0|          0.75|\n",
            "|   1.0|           0.0|\n",
            "|   0.0|           0.0|\n",
            "|   0.0|           0.5|\n",
            "|   0.0|           0.5|\n",
            "|   0.0|           0.0|\n",
            "|   0.0|           1.0|\n",
            "|   0.0|           1.0|\n",
            "|   1.0|           0.5|\n",
            "|   0.0|           0.0|\n",
            "|   0.0|           0.0|\n",
            "|   1.0|           1.0|\n",
            "|   1.0|           1.0|\n",
            "|   0.0|           0.0|\n",
            "|   1.0|           0.5|\n",
            "+------+--------------+\n",
            "only showing top 20 rows\n",
            "\n"
          ]
        }
      ]
    },
    {
      "cell_type": "markdown",
      "metadata": {
        "id": "89ce3b77"
      },
      "source": [
        "### Deal with null value according to your data analysis."
      ],
      "id": "89ce3b77"
    },
    {
      "cell_type": "code",
      "metadata": {
        "id": "4d78cb87"
      },
      "source": [
        "median_bmi=df_pandas[\"bmi\"].median()\n",
        "df=df.fillna(median_bmi,subset=[\"bmi\"])"
      ],
      "id": "4d78cb87",
      "execution_count": 540,
      "outputs": []
    },
    {
      "cell_type": "code",
      "metadata": {
        "colab": {
          "base_uri": "https://localhost:8080/"
        },
        "id": "Zb3yPU4m-eW9",
        "outputId": "d7ddbd89-ec5b-4003-c058-7325ff86b88d"
      },
      "source": [
        "df.printSchema()"
      ],
      "id": "Zb3yPU4m-eW9",
      "execution_count": 541,
      "outputs": [
        {
          "output_type": "stream",
          "name": "stdout",
          "text": [
            "root\n",
            " |-- id: integer (nullable = true)\n",
            " |-- gender: double (nullable = true)\n",
            " |-- age: double (nullable = true)\n",
            " |-- hypertension: integer (nullable = true)\n",
            " |-- heart_disease: integer (nullable = true)\n",
            " |-- ever_married: string (nullable = true)\n",
            " |-- work_type: string (nullable = true)\n",
            " |-- Residence_type: string (nullable = true)\n",
            " |-- avg_glucose_level: double (nullable = true)\n",
            " |-- bmi: double (nullable = false)\n",
            " |-- smoking_status: double (nullable = true)\n",
            " |-- stroke: integer (nullable = true)\n",
            "\n"
          ]
        }
      ]
    },
    {
      "cell_type": "markdown",
      "metadata": {
        "id": "053c429a"
      },
      "source": [
        "### Split the data into training and test dataframes:\n",
        "- 80% training and 20% test.\n",
        "- seed = 42.\n",
        "- Save each dataframe as a parquet file"
      ],
      "id": "053c429a"
    },
    {
      "cell_type": "code",
      "metadata": {
        "id": "0236ea8b"
      },
      "source": [
        "train_df,test_df=df.randomSplit([0.8, 0.2],seed =42)"
      ],
      "id": "0236ea8b",
      "execution_count": 542,
      "outputs": []
    },
    {
      "cell_type": "code",
      "metadata": {
        "id": "ZVRCnP4m_tu1"
      },
      "source": [
        "train_df.write.parquet(\"/content/output00/train_df.parquet\")\n",
        "test_df.write.parquet(\"/content/output00/test_df.parquet\")"
      ],
      "id": "ZVRCnP4m_tu1",
      "execution_count": 544,
      "outputs": []
    },
    {
      "cell_type": "markdown",
      "metadata": {
        "id": "78fa24da"
      },
      "source": [
        "### Read the saved Train and Test DataFrame:\n",
        "- Use the dataframes you read in the subsequent steps."
      ],
      "id": "78fa24da"
    },
    {
      "cell_type": "code",
      "metadata": {
        "id": "QzJKERwmBFYJ"
      },
      "source": [
        "train_df=spark.read.parquet(\"/content/output_1/train_df.parquet\",inferSchema=True)\n",
        "test_df=spark.read.parquet(\"/content/output_1/test_df.parquet\",inferSchema=True)\n"
      ],
      "id": "QzJKERwmBFYJ",
      "execution_count": 545,
      "outputs": []
    },
    {
      "cell_type": "code",
      "metadata": {
        "colab": {
          "base_uri": "https://localhost:8080/"
        },
        "id": "I-WGQvBEDC4m",
        "outputId": "7f07361f-4c29-4503-80dc-ca8028dc20b3"
      },
      "source": [
        "train_df.printSchema()"
      ],
      "id": "I-WGQvBEDC4m",
      "execution_count": 546,
      "outputs": [
        {
          "output_type": "stream",
          "name": "stdout",
          "text": [
            "root\n",
            " |-- id: integer (nullable = true)\n",
            " |-- gender: double (nullable = true)\n",
            " |-- age: double (nullable = true)\n",
            " |-- hypertension: integer (nullable = true)\n",
            " |-- heart_disease: integer (nullable = true)\n",
            " |-- ever_married: string (nullable = true)\n",
            " |-- work_type: string (nullable = true)\n",
            " |-- Residence_type: string (nullable = true)\n",
            " |-- avg_glucose_level: double (nullable = true)\n",
            " |-- bmi: double (nullable = true)\n",
            " |-- smoking_status: double (nullable = true)\n",
            " |-- stroke: integer (nullable = true)\n",
            "\n"
          ]
        }
      ]
    },
    {
      "cell_type": "markdown",
      "metadata": {
        "id": "987b4b40"
      },
      "source": [
        "### Create the model:\n",
        "- Perform feature engineering steps.\n",
        "- Create the logistic regression classifier.\n",
        "- Build the pipeline model that uses all feature engineering steps and the model.\n",
        "- Train the pipeline model using the trainig dataset."
      ],
      "id": "987b4b40"
    },
    {
      "cell_type": "code",
      "metadata": {
        "id": "3278e362"
      },
      "source": [
        "from pyspark.ml.feature import StringIndexer, VectorAssembler,OneHotEncoder\n",
        "from pyspark.ml import Pipeline"
      ],
      "id": "3278e362",
      "execution_count": 547,
      "outputs": []
    },
    {
      "cell_type": "code",
      "metadata": {
        "colab": {
          "base_uri": "https://localhost:8080/"
        },
        "id": "4e41b352",
        "outputId": "74dfb471-78ea-43ba-bff9-938b24a7c6ed"
      },
      "source": [
        "categoricalCols = [field for (field, dataType) in df.dtypes\n",
        "                   if dataType == \"string\"]\n",
        "categoricalCols"
      ],
      "id": "4e41b352",
      "execution_count": 548,
      "outputs": [
        {
          "output_type": "execute_result",
          "data": {
            "text/plain": [
              "['ever_married', 'work_type', 'Residence_type']"
            ]
          },
          "metadata": {},
          "execution_count": 548
        }
      ]
    },
    {
      "cell_type": "code",
      "metadata": {
        "colab": {
          "base_uri": "https://localhost:8080/"
        },
        "id": "106453d7",
        "outputId": "69569dc9-61aa-46dd-9234-6178a3cf42d1"
      },
      "source": [
        "indexOutputCols = [x + \"_Index\" for x in categoricalCols]\n",
        "indexOutputCols\n",
        "oheOutputCols = [x + \"_OHE\" for x in categoricalCols]\n",
        "oheOutputCols"
      ],
      "id": "106453d7",
      "execution_count": 549,
      "outputs": [
        {
          "output_type": "execute_result",
          "data": {
            "text/plain": [
              "['ever_married_OHE', 'work_type_OHE', 'Residence_type_OHE']"
            ]
          },
          "metadata": {},
          "execution_count": 549
        }
      ]
    },
    {
      "cell_type": "code",
      "metadata": {
        "id": "9CsqrQyDDPKm"
      },
      "source": [
        "stringIndexer = StringIndexer(inputCols=categoricalCols,\n",
        "                             outputCols=indexOutputCols,\n",
        "                             handleInvalid='skip')\n",
        "oheEncoder = OneHotEncoder(inputCols=indexOutputCols,\n",
        "                          outputCols=oheOutputCols)"
      ],
      "id": "9CsqrQyDDPKm",
      "execution_count": 550,
      "outputs": []
    },
    {
      "cell_type": "code",
      "metadata": {
        "id": "t2ILQhb8DUrx"
      },
      "source": [
        "numericCols=[\n",
        " 'gender',\n",
        " 'age',\n",
        " 'hypertension',\n",
        " 'heart_disease',\n",
        " 'avg_glucose_level',\n",
        " 'bmi',\n",
        " 'smoking_status']"
      ],
      "id": "t2ILQhb8DUrx",
      "execution_count": 551,
      "outputs": []
    },
    {
      "cell_type": "code",
      "metadata": {
        "colab": {
          "base_uri": "https://localhost:8080/"
        },
        "id": "CttoIkGpEjrV",
        "outputId": "760375b9-3203-429b-9cb3-f8686c288693"
      },
      "source": [
        "assemblerInputs = oheOutputCols + numericCols\n",
        "assemblerInputs"
      ],
      "id": "CttoIkGpEjrV",
      "execution_count": 552,
      "outputs": [
        {
          "output_type": "execute_result",
          "data": {
            "text/plain": [
              "['ever_married_OHE',\n",
              " 'work_type_OHE',\n",
              " 'Residence_type_OHE',\n",
              " 'gender',\n",
              " 'age',\n",
              " 'hypertension',\n",
              " 'heart_disease',\n",
              " 'avg_glucose_level',\n",
              " 'bmi',\n",
              " 'smoking_status']"
            ]
          },
          "metadata": {},
          "execution_count": 552
        }
      ]
    },
    {
      "cell_type": "code",
      "metadata": {
        "id": "_YjlYjSkEnE9"
      },
      "source": [
        "vecAssembler = VectorAssembler(inputCols=numericCols,outputCol='features')"
      ],
      "id": "_YjlYjSkEnE9",
      "execution_count": 553,
      "outputs": []
    },
    {
      "cell_type": "markdown",
      "metadata": {
        "id": "zYEP43jKE0-E"
      },
      "source": [
        "##**Building the model**"
      ],
      "id": "zYEP43jKE0-E"
    },
    {
      "cell_type": "code",
      "metadata": {
        "id": "MdzeWi-bEyrc"
      },
      "source": [
        "from pyspark.ml.classification import LogisticRegression\n",
        "lr = LogisticRegression(featuresCol = 'features', labelCol = 'stroke')\n",
        "pipeline = Pipeline(stages=[stringIndexer,oheEncoder,vecAssembler,lr])\n",
        "\n",
        "pipeline=pipeline.fit(train_df)"
      ],
      "id": "MdzeWi-bEyrc",
      "execution_count": 554,
      "outputs": []
    },
    {
      "cell_type": "markdown",
      "metadata": {
        "id": "a05c2677"
      },
      "source": [
        "### Perform predictions on tests dataframe:\n",
        "- Test the model using the test dataframe\n",
        "- Select and show the feature column.\n",
        "- Print the schema of the output dataframe.\n",
        "- Select and show both prediction and label columns.\n",
        "- Explore the results for the label column stroke=1. i.e. select both columns (prediction,stroke) for stroke=1.<b>notice the result.</b> \n",
        "- Count the predicted 1 and 0 values.<b>notice the result.</b>   "
      ],
      "id": "a05c2677"
    },
    {
      "cell_type": "code",
      "metadata": {
        "colab": {
          "base_uri": "https://localhost:8080/"
        },
        "id": "d772bef6",
        "outputId": "fef99ccc-ff1c-479e-8467-87577c0f71e4"
      },
      "source": [
        "predictions = pipeline.transform(test_df)\n",
        "\n",
        "predictions.select(\"prediction\", \"Stroke\", \"features\").show()"
      ],
      "id": "d772bef6",
      "execution_count": 555,
      "outputs": [
        {
          "output_type": "stream",
          "name": "stdout",
          "text": [
            "+----------+------+--------------------+\n",
            "|prediction|Stroke|            features|\n",
            "+----------+------+--------------------+\n",
            "|       0.0|     0|[1.0,55.0,0.0,0.0...|\n",
            "|       0.0|     0|(7,[1,4,5],[24.0,...|\n",
            "|       0.0|     0|(7,[1,4,5],[33.0,...|\n",
            "|       0.0|     0|[0.0,43.0,0.0,0.0...|\n",
            "|       0.0|     0|[1.0,79.0,0.0,0.0...|\n",
            "|       0.0|     0|(7,[1,4,5],[43.0,...|\n",
            "|       0.0|     0|[1.0,78.0,1.0,0.0...|\n",
            "|       0.0|     1|(7,[1,4,5],[74.0,...|\n",
            "|       0.0|     0|[0.0,14.0,0.0,0.0...|\n",
            "|       0.0|     0|[1.0,69.0,0.0,0.0...|\n",
            "|       0.0|     0|[1.0,52.0,0.0,0.0...|\n",
            "|       0.0|     1|[0.0,82.0,1.0,1.0...|\n",
            "|       0.0|     0|[1.0,17.0,0.0,0.0...|\n",
            "|       0.0|     0|[0.0,73.0,0.0,0.0...|\n",
            "|       0.0|     0|[0.0,59.0,1.0,0.0...|\n",
            "|       0.0|     0|[0.0,60.0,0.0,0.0...|\n",
            "|       0.0|     0|(7,[1,4,5],[14.0,...|\n",
            "|       0.0|     0|[1.0,69.0,1.0,0.0...|\n",
            "|       0.0|     0|[1.0,70.0,0.0,0.0...|\n",
            "|       0.0|     0|(7,[1,4,5],[29.0,...|\n",
            "+----------+------+--------------------+\n",
            "only showing top 20 rows\n",
            "\n"
          ]
        }
      ]
    },
    {
      "cell_type": "code",
      "metadata": {
        "colab": {
          "base_uri": "https://localhost:8080/"
        },
        "id": "3ea267eb",
        "outputId": "ec30704f-1a14-4fca-bb3d-147b3e258b40"
      },
      "source": [
        "predictions.select(\"prediction\").groupby(\"prediction\").count().show()"
      ],
      "id": "3ea267eb",
      "execution_count": 556,
      "outputs": [
        {
          "output_type": "stream",
          "name": "stdout",
          "text": [
            "+----------+-----+\n",
            "|prediction|count|\n",
            "+----------+-----+\n",
            "|       0.0|  944|\n",
            "+----------+-----+\n",
            "\n"
          ]
        }
      ]
    },
    {
      "cell_type": "code",
      "metadata": {
        "scrolled": false,
        "colab": {
          "base_uri": "https://localhost:8080/"
        },
        "id": "480d892e",
        "outputId": "e0ae3322-602e-4364-eda5-83ce9785226b"
      },
      "source": [
        "predictions.select(\"stroke\").groupby(\"stroke\").count().show()"
      ],
      "id": "480d892e",
      "execution_count": 557,
      "outputs": [
        {
          "output_type": "stream",
          "name": "stdout",
          "text": [
            "+------+-----+\n",
            "|stroke|count|\n",
            "+------+-----+\n",
            "|     1|   39|\n",
            "|     0|  905|\n",
            "+------+-----+\n",
            "\n"
          ]
        }
      ]
    },
    {
      "cell_type": "markdown",
      "metadata": {
        "id": "daec120f"
      },
      "source": [
        "### Evaluate the model performance\n",
        "- Use <b>BinaryClassificationEvaluator</b>. This will calculate the <b>ROC</b>.\n",
        "- Set the parameters as follow:\n",
        "    - <b>rawPredictionCol='prediction'</b> and <b>labelCol='stroke'</b>"
      ],
      "id": "daec120f"
    },
    {
      "cell_type": "code",
      "metadata": {
        "colab": {
          "base_uri": "https://localhost:8080/"
        },
        "id": "dDg5L2qSHrG2",
        "outputId": "e104449a-517e-48c5-f8e0-1bece5bbf0a2"
      },
      "source": [
        "from pyspark.ml.evaluation import BinaryClassificationEvaluator\n",
        "evaluator=BinaryClassificationEvaluator(rawPredictionCol='prediction',labelCol='stroke')\n",
        "evaluator.evaluate(predictions)"
      ],
      "id": "dDg5L2qSHrG2",
      "execution_count": 558,
      "outputs": [
        {
          "output_type": "execute_result",
          "data": {
            "text/plain": [
              "0.5"
            ]
          },
          "metadata": {},
          "execution_count": 558
        }
      ]
    },
    {
      "cell_type": "markdown",
      "metadata": {
        "id": "40206589"
      },
      "source": [
        "### Improve Model Performance\n",
        "- You may noticed that <b>the target label is imbalanced</b>.\n",
        "- LogisticRegression classifier has a special parameter <b>weightCol</b> to deal with imbalanced class.\n",
        "- In order to use this parameter you must have a <b>weightCol</b> in your training dataframe.\n",
        "- In order to create this column you will need to define a <b>UDF</b> and apply it to the target label column.\n",
        "- Create a LogisticRegression classifier with <b>weightCol</b> parameter.\n",
        "- Build and train a pipeline model with the new LogisticRegression.\n",
        "- Perform the prediction on the test dataframe. \n",
        "- Select and show both prediction and label columns.\n",
        "- Explore the results for the label column stroke=1. i.e. select both columns (prediction,stroke) for stroke=1.<b>notice the result.</b> \n",
        "- Count the predicted 1 and 0 values.<b>notice the result.</b>   \n",
        "- Evaluate the model performance exactly as in the previous step.\n",
        "### YOU SHOULD OBTAIN  ROC > 0.65\n",
        "<BR>\n",
        "<b><font color='red'>Note: feel free to deal with the imbalanced cluster with the above method or another. However, you can only use methods applied on SPARK DATAFRAME</font></b>"
      ],
      "id": "40206589"
    },
    {
      "cell_type": "code",
      "metadata": {
        "id": "I7mE7ClNKQza"
      },
      "source": [
        "total_num=train_df.count()"
      ],
      "id": "I7mE7ClNKQza",
      "execution_count": 559,
      "outputs": []
    },
    {
      "cell_type": "code",
      "metadata": {
        "id": "Y2GKmUxzJrJd"
      },
      "source": [
        "train_0_count=train_df.where(F.col(\"stroke\")==0).count()"
      ],
      "id": "Y2GKmUxzJrJd",
      "execution_count": 560,
      "outputs": []
    },
    {
      "cell_type": "code",
      "metadata": {
        "id": "cQ4OdKKvKLRe"
      },
      "source": [
        "train_1_count=train_df.where(F.col(\"stroke\")==1).count()"
      ],
      "id": "cQ4OdKKvKLRe",
      "execution_count": 561,
      "outputs": []
    },
    {
      "cell_type": "code",
      "metadata": {
        "id": "qhW_3cqyKa3W"
      },
      "source": [
        "prob_0=train_0_count/total_num"
      ],
      "id": "qhW_3cqyKa3W",
      "execution_count": 562,
      "outputs": []
    },
    {
      "cell_type": "code",
      "metadata": {
        "id": "Rk6TL7GYKi5i"
      },
      "source": [
        "prob_1=train_1_count/total_num"
      ],
      "id": "Rk6TL7GYKi5i",
      "execution_count": 563,
      "outputs": []
    },
    {
      "cell_type": "code",
      "metadata": {
        "id": "03385adc"
      },
      "source": [
        "prob_map={0:prob_1,1:prob_0}\n",
        "def encode_stroke(stroke_value):\n",
        "  return prob_map[stroke_value]\n",
        "prob_map_func = F.udf(lambda x: encode_stroke(x),DoubleType())\n",
        "train_df=train_df.withColumn('weightCol', prob_map_func('stroke'))"
      ],
      "id": "03385adc",
      "execution_count": 564,
      "outputs": []
    },
    {
      "cell_type": "code",
      "metadata": {
        "colab": {
          "base_uri": "https://localhost:8080/"
        },
        "id": "00e034e9",
        "outputId": "a06f8cd4-7bd0-41cd-ac63-e148fb874b2c"
      },
      "source": [
        "train_df.show()"
      ],
      "id": "00e034e9",
      "execution_count": 565,
      "outputs": [
        {
          "output_type": "stream",
          "name": "stdout",
          "text": [
            "+---+------+----+------------+-------------+------------+-------------+--------------+-----------------+----+--------------+------+--------------------+\n",
            "| id|gender| age|hypertension|heart_disease|ever_married|    work_type|Residence_type|avg_glucose_level| bmi|smoking_status|stroke|           weightCol|\n",
            "+---+------+----+------------+-------------+------------+-------------+--------------+-----------------+----+--------------+------+--------------------+\n",
            "| 67|   0.0|17.0|           0|            0|          No|      Private|         Urban|            92.97|28.1|          0.75|     0|0.052367827612127285|\n",
            "| 77|   0.0|13.0|           0|            0|          No|     children|         Rural|            85.81|18.6|           0.5|     0|0.052367827612127285|\n",
            "| 91|   0.0|42.0|           0|            0|          No|      Private|         Urban|            98.53|18.5|           0.0|     0|0.052367827612127285|\n",
            "| 99|   0.0|31.0|           0|            0|          No|      Private|         Urban|           108.89|52.3|           0.5|     0|0.052367827612127285|\n",
            "|121|   0.0|38.0|           0|            0|         Yes|      Private|         Urban|            91.44|28.1|           0.5|     0|0.052367827612127285|\n",
            "|132|   0.0|80.0|           0|            0|         Yes|     Govt_job|         Urban|            84.86|28.1|           0.5|     0|0.052367827612127285|\n",
            "|163|   0.0|20.0|           0|            0|          No|      Private|         Rural|            94.67|28.8|           0.5|     0|0.052367827612127285|\n",
            "|170|   1.0|43.0|           0|            0|         Yes|     Govt_job|         Rural|            80.07|28.1|           0.0|     0|0.052367827612127285|\n",
            "|172|   1.0| 8.0|           0|            0|          No|     children|         Urban|            78.76|28.1|           0.5|     0|0.052367827612127285|\n",
            "|187|   0.0|20.0|           0|            0|          No|      Private|         Rural|            84.07|27.6|           1.0|     0|0.052367827612127285|\n",
            "|210|   1.0|81.0|           0|            0|         Yes|Self-employed|         Rural|            91.54|31.4|           0.0|     1|  0.9476321723878727|\n",
            "|224|   0.0|23.0|           0|            0|          No|      Private|         Urban|           110.16|28.1|           0.0|     0|0.052367827612127285|\n",
            "|239|   1.0|59.0|           1|            1|         Yes|      Private|         Rural|           246.53|27.2|          0.75|     0|0.052367827612127285|\n",
            "|242|   1.0| 4.0|           0|            0|          No|     children|         Urban|            98.56|17.5|           0.5|     0|0.052367827612127285|\n",
            "|247|   1.0|31.0|           0|            0|          No|      Private|         Urban|             72.6|31.6|           0.0|     0|0.052367827612127285|\n",
            "|298|   0.0|41.0|           0|            0|         Yes|Self-employed|         Rural|            76.66|28.1|           0.5|     0|0.052367827612127285|\n",
            "|315|   1.0|45.0|           0|            0|         Yes|      Private|         Rural|            65.42|39.7|           0.0|     0|0.052367827612127285|\n",
            "|321|   0.0|79.0|           0|            0|          No|Self-employed|         Rural|            71.98|36.4|           0.0|     0|0.052367827612127285|\n",
            "|347|   0.0|16.0|           0|            0|          No|      Private|         Urban|            89.45|28.1|           0.5|     0|0.052367827612127285|\n",
            "|354|   0.0|65.0|           0|            0|         Yes|      Private|         Urban|            72.49|28.9|           1.0|     0|0.052367827612127285|\n",
            "+---+------+----+------------+-------------+------------+-------------+--------------+-----------------+----+--------------+------+--------------------+\n",
            "only showing top 20 rows\n",
            "\n"
          ]
        }
      ]
    },
    {
      "cell_type": "code",
      "metadata": {
        "colab": {
          "base_uri": "https://localhost:8080/"
        },
        "id": "66efa0c6",
        "outputId": "469ce658-b9b5-40e7-e810-289132849fab"
      },
      "source": [
        "categoricalCols = [field for (field, dataType) in df.dtypes\n",
        "                   if dataType == \"string\"]\n",
        "categoricalCols"
      ],
      "id": "66efa0c6",
      "execution_count": 566,
      "outputs": [
        {
          "output_type": "execute_result",
          "data": {
            "text/plain": [
              "['ever_married', 'work_type', 'Residence_type']"
            ]
          },
          "metadata": {},
          "execution_count": 566
        }
      ]
    },
    {
      "cell_type": "code",
      "metadata": {
        "colab": {
          "base_uri": "https://localhost:8080/"
        },
        "id": "4e8c18b5",
        "outputId": "57a7179e-73d0-4193-daed-4da98b4e2465"
      },
      "source": [
        "indexOutputCols = [x + \"_Index\" for x in categoricalCols]\n",
        "indexOutputCols\n",
        "oheOutputCols = [x + \"_OHE\" for x in categoricalCols]\n",
        "oheOutputCols"
      ],
      "id": "4e8c18b5",
      "execution_count": 567,
      "outputs": [
        {
          "output_type": "execute_result",
          "data": {
            "text/plain": [
              "['ever_married_OHE', 'work_type_OHE', 'Residence_type_OHE']"
            ]
          },
          "metadata": {},
          "execution_count": 567
        }
      ]
    },
    {
      "cell_type": "code",
      "metadata": {
        "id": "ilmxjpcsPb7G"
      },
      "source": [
        "stringIndexer = StringIndexer(inputCols=categoricalCols,\n",
        "                             outputCols=indexOutputCols,\n",
        "                             handleInvalid='skip')\n",
        "oheEncoder = OneHotEncoder(inputCols=indexOutputCols,\n",
        "                          outputCols=oheOutputCols)"
      ],
      "id": "ilmxjpcsPb7G",
      "execution_count": 568,
      "outputs": []
    },
    {
      "cell_type": "code",
      "metadata": {
        "id": "aMIk7k_uPc9N"
      },
      "source": [
        "numericCols=[\n",
        " 'gender',\n",
        " 'age',\n",
        " 'hypertension',\n",
        " 'heart_disease',\n",
        " 'avg_glucose_level',\n",
        " 'bmi',\n",
        " 'smoking_status']"
      ],
      "id": "aMIk7k_uPc9N",
      "execution_count": 574,
      "outputs": []
    },
    {
      "cell_type": "code",
      "metadata": {
        "colab": {
          "base_uri": "https://localhost:8080/"
        },
        "id": "ElIfW8k4Pc_h",
        "outputId": "c9a5e08c-fd62-47d6-a3d1-24d79eee4d97"
      },
      "source": [
        "assemblerInputs = oheOutputCols + numericCols\n",
        "assemblerInputs"
      ],
      "id": "ElIfW8k4Pc_h",
      "execution_count": 575,
      "outputs": [
        {
          "output_type": "execute_result",
          "data": {
            "text/plain": [
              "['ever_married_OHE',\n",
              " 'work_type_OHE',\n",
              " 'Residence_type_OHE',\n",
              " 'gender',\n",
              " 'age',\n",
              " 'hypertension',\n",
              " 'heart_disease',\n",
              " 'avg_glucose_level',\n",
              " 'bmi',\n",
              " 'smoking_status']"
            ]
          },
          "metadata": {},
          "execution_count": 575
        }
      ]
    },
    {
      "cell_type": "code",
      "metadata": {
        "id": "Wa9CwdAqPdCF"
      },
      "source": [
        "vecAssembler = VectorAssembler(inputCols=numericCols,outputCol='features')"
      ],
      "id": "Wa9CwdAqPdCF",
      "execution_count": 576,
      "outputs": []
    },
    {
      "cell_type": "code",
      "metadata": {
        "id": "Bbfo9dWqPdEp"
      },
      "source": [
        "from pyspark.ml.classification import LogisticRegression\n",
        "lr = LogisticRegression(featuresCol = 'features', labelCol = 'stroke',weightCol=\"weightCol\")\n",
        "pipeline = Pipeline(stages=[stringIndexer,oheEncoder,vecAssembler,lr])\n",
        "\n",
        "pipeline=pipeline.fit(train_df)"
      ],
      "id": "Bbfo9dWqPdEp",
      "execution_count": 582,
      "outputs": []
    },
    {
      "cell_type": "code",
      "metadata": {
        "colab": {
          "base_uri": "https://localhost:8080/"
        },
        "id": "9KQ5898fPdHG",
        "outputId": "cced4d46-37c7-4843-8654-abdaaac50161"
      },
      "source": [
        "predictions = pipeline.transform(test_df)\n",
        "\n",
        "predictions.select(\"prediction\", \"Stroke\", \"features\").show()"
      ],
      "id": "9KQ5898fPdHG",
      "execution_count": 583,
      "outputs": [
        {
          "output_type": "stream",
          "name": "stdout",
          "text": [
            "+----------+------+--------------------+\n",
            "|prediction|Stroke|            features|\n",
            "+----------+------+--------------------+\n",
            "|       0.0|     0|[1.0,55.0,0.0,0.0...|\n",
            "|       0.0|     0|(7,[1,4,5],[24.0,...|\n",
            "|       0.0|     0|(7,[1,4,5],[33.0,...|\n",
            "|       0.0|     0|[0.0,43.0,0.0,0.0...|\n",
            "|       1.0|     0|[1.0,79.0,0.0,0.0...|\n",
            "|       0.0|     0|(7,[1,4,5],[43.0,...|\n",
            "|       1.0|     0|[1.0,78.0,1.0,0.0...|\n",
            "|       1.0|     1|(7,[1,4,5],[74.0,...|\n",
            "|       0.0|     0|[0.0,14.0,0.0,0.0...|\n",
            "|       1.0|     0|[1.0,69.0,0.0,0.0...|\n",
            "|       0.0|     0|[1.0,52.0,0.0,0.0...|\n",
            "|       1.0|     1|[0.0,82.0,1.0,1.0...|\n",
            "|       0.0|     0|[1.0,17.0,0.0,0.0...|\n",
            "|       1.0|     0|[0.0,73.0,0.0,0.0...|\n",
            "|       1.0|     0|[0.0,59.0,1.0,0.0...|\n",
            "|       1.0|     0|[0.0,60.0,0.0,0.0...|\n",
            "|       0.0|     0|(7,[1,4,5],[14.0,...|\n",
            "|       1.0|     0|[1.0,69.0,1.0,0.0...|\n",
            "|       1.0|     0|[1.0,70.0,0.0,0.0...|\n",
            "|       0.0|     0|(7,[1,4,5],[29.0,...|\n",
            "+----------+------+--------------------+\n",
            "only showing top 20 rows\n",
            "\n"
          ]
        }
      ]
    },
    {
      "cell_type": "code",
      "metadata": {
        "colab": {
          "base_uri": "https://localhost:8080/"
        },
        "id": "T16bWuAiQC92",
        "outputId": "bd901fd7-c6a4-4381-92d8-647781afde0f"
      },
      "source": [
        "predictions.select(\"prediction\").groupby(\"prediction\").count().show()"
      ],
      "id": "T16bWuAiQC92",
      "execution_count": 584,
      "outputs": [
        {
          "output_type": "stream",
          "name": "stdout",
          "text": [
            "+----------+-----+\n",
            "|prediction|count|\n",
            "+----------+-----+\n",
            "|       0.0|  682|\n",
            "|       1.0|  262|\n",
            "+----------+-----+\n",
            "\n"
          ]
        }
      ]
    },
    {
      "cell_type": "code",
      "metadata": {
        "colab": {
          "base_uri": "https://localhost:8080/"
        },
        "id": "EL28goRvQDAm",
        "outputId": "254f97dc-9a3f-468a-d709-3f8371f38a35"
      },
      "source": [
        "predictions.select(\"stroke\").groupby(\"stroke\").count().show()"
      ],
      "id": "EL28goRvQDAm",
      "execution_count": 585,
      "outputs": [
        {
          "output_type": "stream",
          "name": "stdout",
          "text": [
            "+------+-----+\n",
            "|stroke|count|\n",
            "+------+-----+\n",
            "|     1|   39|\n",
            "|     0|  905|\n",
            "+------+-----+\n",
            "\n"
          ]
        }
      ]
    },
    {
      "cell_type": "code",
      "metadata": {
        "colab": {
          "base_uri": "https://localhost:8080/"
        },
        "id": "TLAsFzXtQDDE",
        "outputId": "55c5f3aa-050d-4302-f231-46c416a6dcc7"
      },
      "source": [
        "from pyspark.ml.evaluation import BinaryClassificationEvaluator\n",
        "evaluator=BinaryClassificationEvaluator(rawPredictionCol='prediction',labelCol='stroke')\n",
        "evaluator.evaluate(predictions)"
      ],
      "id": "TLAsFzXtQDDE",
      "execution_count": 586,
      "outputs": [
        {
          "output_type": "execute_result",
          "data": {
            "text/plain": [
              "0.7698115880436321"
            ]
          },
          "metadata": {},
          "execution_count": 586
        }
      ]
    },
    {
      "cell_type": "markdown",
      "metadata": {
        "id": "e00e7b53"
      },
      "source": [
        "# GOOD LUCK\n",
        "<b><font color='GREEN'>AI-PRO Spark Team ITI</font></b>"
      ],
      "id": "e00e7b53"
    },
    {
      "cell_type": "markdown",
      "metadata": {
        "id": "0e065922"
      },
      "source": [
        "![image-3.png](attachment:image-3.png)"
      ],
      "id": "0e065922"
    },
    {
      "cell_type": "code",
      "metadata": {
        "id": "dJRtyWc6Q8tW"
      },
      "source": [
        ""
      ],
      "id": "dJRtyWc6Q8tW",
      "execution_count": 586,
      "outputs": []
    }
  ]
}